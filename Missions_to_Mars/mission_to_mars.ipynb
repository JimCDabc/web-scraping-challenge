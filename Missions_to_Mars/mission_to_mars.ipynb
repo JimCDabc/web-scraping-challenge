{
 "cells": [
  {
   "cell_type": "code",
   "execution_count": 1,
   "metadata": {},
   "outputs": [],
   "source": [
    "from splinter import Browser\n",
    "from bs4 import BeautifulSoup\n",
    "\n",
    "import time\n",
    "import pandas as pd\n",
    "import pprint"
   ]
  },
  {
   "cell_type": "code",
   "execution_count": 2,
   "metadata": {},
   "outputs": [],
   "source": [
    "executable_path = {'executable_path': '/usr/local/bin/chromedriver'}\n",
    "browser = Browser('chrome', **executable_path, headless=False)"
   ]
  },
  {
   "cell_type": "markdown",
   "metadata": {},
   "source": [
    "### Scrape the NASA Mars News Site and collect the latest News Title and Paragraph Text. Assign the text to variables that you can reference later.\n",
    "\n",
    "NASA Mars News url: https://mars.nasa.gov/news/?page=0&per_page=40&order=publish_date+desc%2Ccreated_at+desc&search=&category=19%2C165%2C184%2C204&blank_scope=Latest"
   ]
  },
  {
   "cell_type": "code",
   "execution_count": 3,
   "metadata": {},
   "outputs": [],
   "source": [
    "nasaNews_url = 'https://mars.nasa.gov/news/?page=0&per_page=40&order=publish_date+desc%2Ccreated_at+desc&search=&category=19%2C165%2C184%2C204&blank_scope=Latest'\n",
    "browser.visit(nasaNews_url)\n",
    "time.sleep(1)"
   ]
  },
  {
   "cell_type": "code",
   "execution_count": 4,
   "metadata": {},
   "outputs": [],
   "source": [
    "# HTML object\n",
    "html = browser.html\n",
    "# Parse HTML with Beautiful Soup\n",
    "soup = BeautifulSoup(html, 'html.parser')\n"
   ]
  },
  {
   "cell_type": "code",
   "execution_count": 5,
   "metadata": {
    "scrolled": false
   },
   "outputs": [
    {
     "name": "stdout",
     "output_type": "stream",
     "text": [
      "<div class=\"list_text\">\n",
      " <div class=\"list_date\">\n",
      "  January 13, 2020\n",
      " </div>\n",
      " <div class=\"content_title\">\n",
      "  <a href=\"/news/8585/nasas-mars-2020-rover-closer-to-getting-its-name/\" target=\"_self\">\n",
      "   NASA's Mars 2020 Rover Closer to Getting Its Name\n",
      "  </a>\n",
      " </div>\n",
      " <div class=\"article_teaser_body\">\n",
      "  155 students from across the U.S. have been chosen as semifinalists in NASA's essay contest to name the Mars 2020 rover, and see it launch from Cape Canaveral this July.\n",
      " </div>\n",
      "</div>\n"
     ]
    }
   ],
   "source": [
    "# results are returned as an iterable list\n",
    "news = soup.find_all('div', class_=\"list_text\")\n",
    "print(news[0].prettify())"
   ]
  },
  {
   "cell_type": "code",
   "execution_count": 6,
   "metadata": {
    "scrolled": true
   },
   "outputs": [
    {
     "name": "stdout",
     "output_type": "stream",
     "text": [
      "{ 'news_date': 'January 13, 2020',\n",
      "  'news_p': '155 students from across the U.S. have been chosen as '\n",
      "            \"semifinalists in NASA's essay contest to name the Mars 2020 \"\n",
      "            'rover, and see it launch from Cape Canaveral this July.',\n",
      "  'news_title': \"NASA's Mars 2020 Rover Closer to Getting Its Name\"}\n"
     ]
    }
   ],
   "source": [
    "news_date = news[0].find('div', class_='list_date').contents[0]\n",
    "news_title = news[0].find('div', class_='content_title').a.contents[0]\n",
    "news_p = news[0].find('div', class_='article_teaser_body').contents[0]\n",
    "\n",
    "newsDict = {\n",
    "    \"news_date\" : news_date,\n",
    "    \"news_title\" : news_title,\n",
    "    \"news_p\" : news_p\n",
    "    }\n",
    "\n",
    "pprint.pprint(newsDict, indent=2)\n"
   ]
  },
  {
   "cell_type": "code",
   "execution_count": null,
   "metadata": {},
   "outputs": [],
   "source": []
  },
  {
   "cell_type": "markdown",
   "metadata": {},
   "source": [
    "### JPL Mars Space Images - Featured Image\n",
    "+ Visit the url for JPL Featured Space Image here: https://www.jpl.nasa.gov/spaceimages/?search=&category=Mars\n",
    "\n",
    "+ Use splinter to navigate the site and find the image url for the current Featured Mars Image and assign the url string to a variable called featured_image_url.\n",
    "\n",
    "+ Make sure to find the image url to the full size .jpg image.\n",
    "\n",
    "+ Make sure to save a complete url string for this image."
   ]
  },
  {
   "cell_type": "code",
   "execution_count": 7,
   "metadata": {},
   "outputs": [],
   "source": [
    "# Visit the url for JPL Featured Space Image\n",
    "jpl_base_url= 'https://www.jpl.nasa.gov'\n",
    "jplMarsImages_url = 'https://www.jpl.nasa.gov/spaceimages/?search=&category=Mars'\n",
    "browser.visit(jplMarsImages_url)\n",
    "time.sleep(1)"
   ]
  },
  {
   "cell_type": "code",
   "execution_count": 8,
   "metadata": {},
   "outputs": [
    {
     "name": "stderr",
     "output_type": "stream",
     "text": [
      "C:\\Users\\jimco\\Anaconda3\\envs\\PythonData\\lib\\site-packages\\splinter\\driver\\webdriver\\__init__.py:528: FutureWarning: browser.find_link_by_partial_text is deprecated. Use browser.links.find_by_partial_text instead.\n",
      "  FutureWarning,\n"
     ]
    }
   ],
   "source": [
    "# Use splinter -  Navigate to the FUll IMAGE page\n",
    "browser.click_link_by_partial_text('FULL IMAGE')\n",
    "time.sleep(1)"
   ]
  },
  {
   "cell_type": "code",
   "execution_count": 9,
   "metadata": {},
   "outputs": [],
   "source": [
    "# HTML object\n",
    "html = browser.html\n",
    "# Parse HTML with Beautiful Soup\n",
    "soup = BeautifulSoup(html, 'html.parser')\n"
   ]
  },
  {
   "cell_type": "code",
   "execution_count": 10,
   "metadata": {
    "scrolled": true
   },
   "outputs": [
    {
     "name": "stdout",
     "output_type": "stream",
     "text": [
      "<div class=\"fancybox-wrap fancybox-dark fancybox-type-image fancybox-desktop fancybox-dark-desktop fancybox-open\" style=\"margin: 30px 55px 98px; padding-top: 10px; padding-right: 10px; padding-left: 10px; width: 908px; height: 578px; top: 18px; left: 0px; opacity: 1; overflow: visible;\">\n",
      " <div class=\"fancybox-inner fancybox-skin fancybox-dark-skin fancybox-dark-skin-open\" style=\"border-width: 10px; margin-top: -10px; margin-left: -10px; overflow: visible; width: 908px; height: 473px;\">\n",
      "  <img class=\"fancybox-image\" src=\"/spaceimages/images/mediumsize/PIA17794_ip.jpg\" style=\"display: inline;\"/>\n",
      "  <a class=\"fancybox-nav fancybox-prev\" href=\"javascript:;\" title=\"Previous\">\n",
      "   <span>\n",
      "   </span>\n",
      "  </a>\n",
      "  <a class=\"fancybox-nav fancybox-next\" href=\"javascript:;\" title=\"Next\">\n",
      "   <span>\n",
      "   </span>\n",
      "  </a>\n",
      "  <a class=\"fancybox-expand\" href=\"javascript:;\" style=\"display: none;\" title=\"Expand image\">\n",
      "  </a>\n",
      " </div>\n",
      " <div class=\"fancybox-title fancybox-title-outside-wrap\" style=\"visibility: visible; opacity: 0.104922; left: 0px;\">\n",
      "  NASA's Cold Atom Laboratory (CAL) Chip (Artist's Concept)\n",
      "  <div (artist's=\"\" (cal)=\"\" a=\"\" aboard=\"\" addthis:description=\"Artist\" addthis:title=\"NASA\" addthis:url=\"/spaceimages/details.php?id=PIA17794\" and=\"\" atom=\"\" be=\"\" by=\"\" chip=\"\" class=\"addthis_toolbox addthis_default_style\" cold=\"\" concept=\"\" concept)'=\"\" international=\"\" laboratory=\"\" magneto-optical=\"\" nasa's=\"\" of=\"\" s=\"\" space=\"\" station.'=\"\" the=\"\" to=\"\" trap=\"\" used=\"\">\n",
      "   <div class=\"buttons\">\n",
      "    <a class=\"addthis_button_compact\" href=\"#\">\n",
      "     <img src=\"/assets/images/content/tmp/images/share.png\"/>\n",
      "    </a>\n",
      "    <a class=\"button\" href=\"/spaceimages/details.php?id=PIA17794 \" target=\"_top\">\n",
      "     more info\n",
      "    </a>\n",
      "   </div>\n",
      "   <div class=\"atclear\">\n",
      "   </div>\n",
      "  </div>\n",
      " </div>\n",
      " <a class=\"fancybox-close\" href=\"javascript:;\" title=\"Close\">\n",
      " </a>\n",
      " <div class=\"fancybox-spacer\" style=\"height: 96px;\">\n",
      " </div>\n",
      "</div>\n"
     ]
    }
   ],
   "source": [
    "# results are returned as an iterable list\n",
    "featured = soup.find_all('div', class_=\"fancybox-wrap\")\n",
    "print(featured[0].prettify())\n"
   ]
  },
  {
   "cell_type": "code",
   "execution_count": 11,
   "metadata": {},
   "outputs": [],
   "source": [
    "# featured"
   ]
  },
  {
   "cell_type": "code",
   "execution_count": 12,
   "metadata": {},
   "outputs": [
    {
     "data": {
      "text/plain": [
       "'https://www.jpl.nasa.gov/spaceimages/images/mediumsize/PIA17794_ip.jpg'"
      ]
     },
     "execution_count": 12,
     "metadata": {},
     "output_type": "execute_result"
    }
   ],
   "source": [
    "#  find the image url for the current Featured Mars Image\n",
    "featured_img = featured[0].find('div', class_='fancybox-inner')\n",
    "featured_image_url = jpl_base_url + featured_img.img['src']\n",
    "\n",
    "featured_image_url\n"
   ]
  },
  {
   "cell_type": "code",
   "execution_count": 13,
   "metadata": {},
   "outputs": [
    {
     "data": {
      "text/plain": [
       "\"NASA's Cold Atom Laboratory (CAL) Chip (Artist's Concept)\""
      ]
     },
     "execution_count": 13,
     "metadata": {},
     "output_type": "execute_result"
    }
   ],
   "source": [
    "#  find the title for the current Featured Mars Image\n",
    "featured_image_title = featured[0].find('div', class_='fancybox-title').contents[0]\n",
    "featured_image_title\n"
   ]
  },
  {
   "cell_type": "code",
   "execution_count": 14,
   "metadata": {},
   "outputs": [
    {
     "name": "stdout",
     "output_type": "stream",
     "text": [
      "{ 'featured_image_title': \"NASA's Cold Atom Laboratory (CAL) Chip (Artist's \"\n",
      "                          'Concept)',\n",
      "  'featured_image_url': 'https://www.jpl.nasa.gov/spaceimages/images/mediumsize/PIA17794_ip.jpg'}\n"
     ]
    }
   ],
   "source": [
    "featuredImageDict = {\n",
    "    \"featured_image_url\" : featured_image_url,\n",
    "    \"featured_image_title\" : featured_image_title\n",
    "    }\n",
    "\n",
    "pprint.pprint(featuredImageDict, indent=2)"
   ]
  },
  {
   "cell_type": "markdown",
   "metadata": {},
   "source": [
    "### Mars Weather\n",
    "+ Visit the Mars Weather twitter account here: https://twitter.com/marswxreport?lang=en \n",
    "+ scrape the latest Mars weather tweet from the page. \n",
    "+ Save the tweet text for the weather report as a variable called mars_weather.\n",
    "\n",
    "##### Example:\n",
    "mars_weather = 'Sol 1801 (Aug 30, 2017), Sunny, high -21C/-5F, low -80C/-112F, pressure at 8.82 hPa, daylight 06:09-17:55"
   ]
  },
  {
   "cell_type": "code",
   "execution_count": 15,
   "metadata": {},
   "outputs": [],
   "source": [
    "weather_url = 'https://twitter.com/marswxreport?lang=en'\n",
    "browser.visit(weather_url)\n",
    "time.sleep(1)"
   ]
  },
  {
   "cell_type": "code",
   "execution_count": 16,
   "metadata": {},
   "outputs": [],
   "source": [
    "# HTML object\n",
    "html = browser.html\n",
    "# Parse HTML with Beautiful Soup\n",
    "soup = BeautifulSoup(html, 'html.parser')\n"
   ]
  },
  {
   "cell_type": "code",
   "execution_count": 17,
   "metadata": {},
   "outputs": [],
   "source": [
    "# results are returned as an iterable list\n",
    "tweets= soup.find_all('div', class_=\"js-tweet-text-container\")\n",
    "#print(tweets[0].prettify())"
   ]
  },
  {
   "cell_type": "code",
   "execution_count": 18,
   "metadata": {
    "scrolled": false
   },
   "outputs": [
    {
     "data": {
      "text/plain": [
       "'DYK Mars’ moons are visible in daylight as well?'"
      ]
     },
     "execution_count": 18,
     "metadata": {},
     "output_type": "execute_result"
    }
   ],
   "source": [
    "mars_weather = tweets[0].p.contents[0]\n",
    "mars_weather"
   ]
  },
  {
   "cell_type": "code",
   "execution_count": 19,
   "metadata": {},
   "outputs": [],
   "source": [
    "weatherDict = { \"mars_weather\" : mars_weather}"
   ]
  },
  {
   "cell_type": "code",
   "execution_count": null,
   "metadata": {},
   "outputs": [],
   "source": []
  },
  {
   "cell_type": "markdown",
   "metadata": {},
   "source": []
  },
  {
   "cell_type": "markdown",
   "metadata": {},
   "source": [
    "### Mars Facts\n",
    "+ Visit the Mars Facts webpage here: https://space-facts.com/mars/\n",
    "+ use Pandas to scrape the table containing facts about the planet including Diameter, Mass, etc.\n",
    "\n",
    "+ Use Pandas to convert the data to a HTML table string."
   ]
  },
  {
   "cell_type": "code",
   "execution_count": 20,
   "metadata": {},
   "outputs": [],
   "source": [
    "marsFacts_url = 'https://space-facts.com/mars/'"
   ]
  },
  {
   "cell_type": "code",
   "execution_count": 21,
   "metadata": {},
   "outputs": [
    {
     "data": {
      "text/plain": [
       "[                      0                              1\n",
       " 0  Equatorial Diameter:                       6,792 km\n",
       " 1       Polar Diameter:                       6,752 km\n",
       " 2                 Mass:  6.39 × 10^23 kg (0.11 Earths)\n",
       " 3                Moons:            2 (Phobos & Deimos)\n",
       " 4       Orbit Distance:       227,943,824 km (1.38 AU)\n",
       " 5         Orbit Period:           687 days (1.9 years)\n",
       " 6  Surface Temperature:                   -87 to -5 °C\n",
       " 7         First Record:              2nd millennium BC\n",
       " 8          Recorded By:           Egyptian astronomers,\n",
       "   Mars - Earth Comparison             Mars            Earth\n",
       " 0               Diameter:         6,779 km        12,742 km\n",
       " 1                   Mass:  6.39 × 10^23 kg  5.97 × 10^24 kg\n",
       " 2                  Moons:                2                1\n",
       " 3      Distance from Sun:   227,943,824 km   149,598,262 km\n",
       " 4         Length of Year:   687 Earth days      365.24 days\n",
       " 5            Temperature:    -153 to 20 °C      -88 to 58°C,\n",
       "                       0                              1\n",
       " 0  Equatorial Diameter:                       6,792 km\n",
       " 1       Polar Diameter:                       6,752 km\n",
       " 2                 Mass:  6.39 × 10^23 kg (0.11 Earths)\n",
       " 3                Moons:            2 (Phobos & Deimos)\n",
       " 4       Orbit Distance:       227,943,824 km (1.38 AU)\n",
       " 5         Orbit Period:           687 days (1.9 years)\n",
       " 6  Surface Temperature:                   -87 to -5 °C\n",
       " 7         First Record:              2nd millennium BC\n",
       " 8          Recorded By:           Egyptian astronomers]"
      ]
     },
     "execution_count": 21,
     "metadata": {},
     "output_type": "execute_result"
    }
   ],
   "source": [
    "factsTables = pd.read_html(marsFacts_url)\n",
    "factsTables"
   ]
  },
  {
   "cell_type": "code",
   "execution_count": 22,
   "metadata": {},
   "outputs": [
    {
     "data": {
      "text/html": [
       "<div>\n",
       "<style scoped>\n",
       "    .dataframe tbody tr th:only-of-type {\n",
       "        vertical-align: middle;\n",
       "    }\n",
       "\n",
       "    .dataframe tbody tr th {\n",
       "        vertical-align: top;\n",
       "    }\n",
       "\n",
       "    .dataframe thead th {\n",
       "        text-align: right;\n",
       "    }\n",
       "</style>\n",
       "<table border=\"1\" class=\"dataframe\">\n",
       "  <thead>\n",
       "    <tr style=\"text-align: right;\">\n",
       "      <th>parameter</th>\n",
       "      <th>value</th>\n",
       "    </tr>\n",
       "  </thead>\n",
       "  <tbody>\n",
       "    <tr>\n",
       "      <th>Equatorial Diameter:</th>\n",
       "      <td>6,792 km</td>\n",
       "    </tr>\n",
       "    <tr>\n",
       "      <th>Polar Diameter:</th>\n",
       "      <td>6,752 km</td>\n",
       "    </tr>\n",
       "    <tr>\n",
       "      <th>Mass:</th>\n",
       "      <td>6.39 × 10^23 kg (0.11 Earths)</td>\n",
       "    </tr>\n",
       "    <tr>\n",
       "      <th>Moons:</th>\n",
       "      <td>2 (Phobos &amp; Deimos)</td>\n",
       "    </tr>\n",
       "    <tr>\n",
       "      <th>Orbit Distance:</th>\n",
       "      <td>227,943,824 km (1.38 AU)</td>\n",
       "    </tr>\n",
       "  </tbody>\n",
       "</table>\n",
       "</div>"
      ],
      "text/plain": [
       "parameter                                     value\n",
       "Equatorial Diameter:                       6,792 km\n",
       "Polar Diameter:                            6,752 km\n",
       "Mass:                 6.39 × 10^23 kg (0.11 Earths)\n",
       "Moons:                          2 (Phobos & Deimos)\n",
       "Orbit Distance:            227,943,824 km (1.38 AU)"
      ]
     },
     "execution_count": 22,
     "metadata": {},
     "output_type": "execute_result"
    }
   ],
   "source": [
    "df = factsTables[0].copy()\n",
    "df.columns = ['parameter', 'value']\n",
    "df.set_index('parameter', inplace=True)\n",
    "#df.reset_index(inplace=True)\n",
    "df.columns.name = df.index.name\n",
    "df.index.name = None\n",
    "df.head()"
   ]
  },
  {
   "cell_type": "code",
   "execution_count": 23,
   "metadata": {},
   "outputs": [
    {
     "data": {
      "text/plain": [
       "'<table border=\"1\" class=\"dataframe data\">  <thead>    <tr style=\"text-align: right;\">      <th>parameter</th>      <th>value</th>    </tr>  </thead>  <tbody>    <tr>      <th>Equatorial Diameter:</th>      <td>6,792 km</td>    </tr>    <tr>      <th>Polar Diameter:</th>      <td>6,752 km</td>    </tr>    <tr>      <th>Mass:</th>      <td>6.39 × 10^23 kg (0.11 Earths)</td>    </tr>    <tr>      <th>Moons:</th>      <td>2 (Phobos &amp; Deimos)</td>    </tr>    <tr>      <th>Orbit Distance:</th>      <td>227,943,824 km (1.38 AU)</td>    </tr>    <tr>      <th>Orbit Period:</th>      <td>687 days (1.9 years)</td>    </tr>    <tr>      <th>Surface Temperature:</th>      <td>-87 to -5 °C</td>    </tr>    <tr>      <th>First Record:</th>      <td>2nd millennium BC</td>    </tr>    <tr>      <th>Recorded By:</th>      <td>Egyptian astronomers</td>    </tr>  </tbody></table>'"
      ]
     },
     "execution_count": 23,
     "metadata": {},
     "output_type": "execute_result"
    }
   ],
   "source": [
    "html_factsTable = df.to_html(classes='data')\n",
    "html_factsTable = html_factsTable.replace('\\n', '')\n",
    "#pprint.pprint(html_factsTable)\n",
    "\n",
    "html_factsTable"
   ]
  },
  {
   "cell_type": "code",
   "execution_count": 24,
   "metadata": {},
   "outputs": [],
   "source": [
    "factsDict = { \"html_factsTable\" : html_factsTable}"
   ]
  },
  {
   "cell_type": "markdown",
   "metadata": {},
   "source": [
    "### Mars Hemispheres\n",
    "+ Visit the USGS Astrogeology site here: https://astrogeology.usgs.gov/search/results?q=hemisphere+enhanced&k1=target&v1=Mars\n",
    "+ to obtain high resolution images for each of Mar's hemispheres.\n",
    "\n",
    "+ You will need to click each of the links to the hemispheres in order to find the image url to the full resolution image.\n",
    "\n",
    "+ Save both the image url string for the full resolution hemisphere image, and the Hemisphere title containing the hemisphere name. Use a Python dictionary to store the data using the keys img_url and title.\n",
    "\n",
    "+ Append the dictionary with the image url string and the hemisphere title to a list. This list will contain one dictionary for each hemisphere.\n",
    "\n",
    "##### Example:\n",
    "~~~\n",
    "hemisphere_image_urls = [\n",
    "    {\"title\": \"Valles Marineris Hemisphere\", \"img_url\": \"...\"},\n",
    "    {\"title\": \"Cerberus Hemisphere\", \"img_url\": \"...\"},\n",
    "    {\"title\": \"Schiaparelli Hemisphere\", \"img_url\": \"...\"},\n",
    "    {\"title\": \"Syrtis Major Hemisphere\", \"img_url\": \"...\"},\n",
    "]\n",
    "~~~"
   ]
  },
  {
   "cell_type": "code",
   "execution_count": 25,
   "metadata": {},
   "outputs": [],
   "source": [
    "astrogeo_url = 'https://astrogeology.usgs.gov/search/results?q=hemisphere+enhanced&k1=target&v1=Mars'\n",
    "browser.visit(astrogeo_url)\n",
    "time.sleep(1)"
   ]
  },
  {
   "cell_type": "code",
   "execution_count": 26,
   "metadata": {},
   "outputs": [],
   "source": [
    "html = browser.html\n",
    "# Parse HTML with Beautiful Soup\n",
    "soup = BeautifulSoup(html, 'html.parser')\n"
   ]
  },
  {
   "cell_type": "code",
   "execution_count": 27,
   "metadata": {},
   "outputs": [],
   "source": [
    "# THIS Gets an error\n",
    "# ElementClickInterceptedException: Message: element click intercepted: Element <a href=\"/search/map/Mars/Viking/cerberus_enhanced\" class=\"itemLink product-item\">...</a> is not clickable at point (112, 216). Other element would receive the click: <div id=\"product-section\" data-section=\"product\" class=\"result-list\">...</div>\n",
    "#  (Session info: chrome=79.0.3945.117)\n",
    "\n",
    "# items = soup.find_all('div', class_='item')\n",
    "# for item in items :\n",
    "#     pprint.pprint(item, indent=2)\n",
    "#     print('\\n')\n",
    "#     link = item.a\n",
    "#     print(link)\n",
    "#     print('\\n')\n",
    "#     href=link['href']\n",
    "#     print(href)\n",
    "#     print('\\n')\n",
    "\n",
    "#     browser.click_link_by_href(href)\n",
    "#     time.sleep(1)"
   ]
  },
  {
   "cell_type": "code",
   "execution_count": 28,
   "metadata": {},
   "outputs": [],
   "source": [
    "# THis gets and error afte tryin got click href for first link - \n",
    "#ElementClickInterceptedException: Message: element click intercepted: Element <a href=\"/search/map/Mars/Viking/cerberus_enhanced\" class=\"itemLink product-item\">...</a> is not clickable at point (210, 216). Other element would receive the click: <div id=\"product-section\" data-section=\"product\" class=\"result-list\">...</div>\n",
    "#  (Session info: chrome=79.0.3945.117)\n",
    "#browser.click_link_by_href('/search/map/Mars/Viking/cerberus_enhanced')"
   ]
  },
  {
   "cell_type": "code",
   "execution_count": 29,
   "metadata": {},
   "outputs": [
    {
     "data": {
      "text/plain": [
       "{'hemisphere_image_urls': [{'title': 'Cerberus Hemisphere Enhanced',\n",
       "   'url': 'http://astropedia.astrogeology.usgs.gov/download/Mars/Viking/cerberus_enhanced.tif/full.jpg'},\n",
       "  {'title': 'Schiaparelli Hemisphere Enhanced',\n",
       "   'url': 'http://astropedia.astrogeology.usgs.gov/download/Mars/Viking/schiaparelli_enhanced.tif/full.jpg'},\n",
       "  {'title': 'Syrtis Major Hemisphere Enhanced',\n",
       "   'url': 'http://astropedia.astrogeology.usgs.gov/download/Mars/Viking/syrtis_major_enhanced.tif/full.jpg'},\n",
       "  {'title': 'Valles Marineris Hemisphere Enhanced',\n",
       "   'url': 'http://astropedia.astrogeology.usgs.gov/download/Mars/Viking/valles_marineris_enhanced.tif/full.jpg'}]}"
      ]
     },
     "execution_count": 29,
     "metadata": {},
     "output_type": "execute_result"
    }
   ],
   "source": [
    "hemisphere_image_urls = []\n",
    "items = soup.find_all('div', class_='item')\n",
    "\n",
    "for item in items :\n",
    "    link = item.a\n",
    "    href=link['href']\n",
    "    linkURL = 'https://astrogeology.usgs.gov' + href\n",
    "\n",
    "    #print(linkURL)\n",
    "    \n",
    "    #brute force visit link url since broswer.click_link_by_href is erroring out\n",
    "    browser.visit(linkURL)\n",
    "    soup = BeautifulSoup(browser.html, 'html.parser')\n",
    "    time.sleep(1)\n",
    "\n",
    "    h2 = soup.find('h2', class_='title')\n",
    "    title=h2.contents[0]\n",
    "\n",
    "    imglink = soup.find('div', class_='downloads').a\n",
    "    img_url = imglink['href']\n",
    "    \n",
    "    #print(image_url)\n",
    "    imgDict = { 'title' : title, 'url' : img_url}\n",
    "    hemisphere_image_urls.append(imgDict)\n",
    "    \n",
    "hemisImgDict = { \"hemisphere_image_urls\" : hemisphere_image_urls }\n",
    "hemisImgDict\n",
    "    "
   ]
  },
  {
   "cell_type": "code",
   "execution_count": null,
   "metadata": {},
   "outputs": [],
   "source": []
  },
  {
   "cell_type": "code",
   "execution_count": 30,
   "metadata": {},
   "outputs": [
    {
     "data": {
      "text/plain": [
       "{'news_date': 'January 13, 2020',\n",
       " 'news_title': \"NASA's Mars 2020 Rover Closer to Getting Its Name\",\n",
       " 'news_p': \"155 students from across the U.S. have been chosen as semifinalists in NASA's essay contest to name the Mars 2020 rover, and see it launch from Cape Canaveral this July.\",\n",
       " 'featured_image_url': 'https://www.jpl.nasa.gov/spaceimages/images/mediumsize/PIA17794_ip.jpg',\n",
       " 'featured_image_title': \"NASA's Cold Atom Laboratory (CAL) Chip (Artist's Concept)\",\n",
       " 'mars_weather': 'DYK Mars’ moons are visible in daylight as well?',\n",
       " 'html_factsTable': '<table border=\"1\" class=\"dataframe data\">  <thead>    <tr style=\"text-align: right;\">      <th>parameter</th>      <th>value</th>    </tr>  </thead>  <tbody>    <tr>      <th>Equatorial Diameter:</th>      <td>6,792 km</td>    </tr>    <tr>      <th>Polar Diameter:</th>      <td>6,752 km</td>    </tr>    <tr>      <th>Mass:</th>      <td>6.39 × 10^23 kg (0.11 Earths)</td>    </tr>    <tr>      <th>Moons:</th>      <td>2 (Phobos &amp; Deimos)</td>    </tr>    <tr>      <th>Orbit Distance:</th>      <td>227,943,824 km (1.38 AU)</td>    </tr>    <tr>      <th>Orbit Period:</th>      <td>687 days (1.9 years)</td>    </tr>    <tr>      <th>Surface Temperature:</th>      <td>-87 to -5 °C</td>    </tr>    <tr>      <th>First Record:</th>      <td>2nd millennium BC</td>    </tr>    <tr>      <th>Recorded By:</th>      <td>Egyptian astronomers</td>    </tr>  </tbody></table>',\n",
       " 'hemisphere_image_urls': [{'title': 'Cerberus Hemisphere Enhanced',\n",
       "   'url': 'http://astropedia.astrogeology.usgs.gov/download/Mars/Viking/cerberus_enhanced.tif/full.jpg'},\n",
       "  {'title': 'Schiaparelli Hemisphere Enhanced',\n",
       "   'url': 'http://astropedia.astrogeology.usgs.gov/download/Mars/Viking/schiaparelli_enhanced.tif/full.jpg'},\n",
       "  {'title': 'Syrtis Major Hemisphere Enhanced',\n",
       "   'url': 'http://astropedia.astrogeology.usgs.gov/download/Mars/Viking/syrtis_major_enhanced.tif/full.jpg'},\n",
       "  {'title': 'Valles Marineris Hemisphere Enhanced',\n",
       "   'url': 'http://astropedia.astrogeology.usgs.gov/download/Mars/Viking/valles_marineris_enhanced.tif/full.jpg'}]}"
      ]
     },
     "execution_count": 30,
     "metadata": {},
     "output_type": "execute_result"
    }
   ],
   "source": [
    "mergeDict = { **newsDict, **featuredImageDict, **weatherDict, **factsDict, **hemisImgDict }\n",
    "mergeDict"
   ]
  },
  {
   "cell_type": "code",
   "execution_count": 31,
   "metadata": {},
   "outputs": [],
   "source": [
    "browser.quit()"
   ]
  }
 ],
 "metadata": {
  "kernelspec": {
   "display_name": "Python [conda env:PythonData] *",
   "language": "python",
   "name": "conda-env-PythonData-py"
  },
  "language_info": {
   "codemirror_mode": {
    "name": "ipython",
    "version": 3
   },
   "file_extension": ".py",
   "mimetype": "text/x-python",
   "name": "python",
   "nbconvert_exporter": "python",
   "pygments_lexer": "ipython3",
   "version": "3.6.9"
  }
 },
 "nbformat": 4,
 "nbformat_minor": 2
}
